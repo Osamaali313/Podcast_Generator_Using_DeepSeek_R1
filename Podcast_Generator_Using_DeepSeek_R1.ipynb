{
  "nbformat": 4,
  "nbformat_minor": 0,
  "metadata": {
    "colab": {
      "provenance": [],
      "machine_shape": "hm",
      "gpuType": "L4"
    },
    "kernelspec": {
      "name": "python3",
      "display_name": "Python 3"
    },
    "language_info": {
      "name": "python"
    },
    "accelerator": "GPU"
  },
  "cells": [
    {
      "cell_type": "code",
      "source": [
        "!pip install -qU fal-client langchain-openai"
      ],
      "metadata": {
        "collapsed": true,
        "colab": {
          "base_uri": "https://localhost:8080/"
        },
        "id": "IAHdqUH6-vCK",
        "outputId": "3b078b0c-19ca-4347-c044-af42451f904a"
      },
      "execution_count": 1,
      "outputs": [
        {
          "output_type": "stream",
          "name": "stdout",
          "text": [
            "\u001b[?25l   \u001b[90m━━━━━━━━━━━━━━━━━━━━━━━━━━━━━━━━━━━━━━━━\u001b[0m \u001b[32m0.0/54.5 kB\u001b[0m \u001b[31m?\u001b[0m eta \u001b[36m-:--:--\u001b[0m\r\u001b[2K   \u001b[90m━━━━━━━━━━━━━━━━━━━━━━━━━━━━━━━━━━━━━━━━\u001b[0m \u001b[32m54.5/54.5 kB\u001b[0m \u001b[31m5.6 MB/s\u001b[0m eta \u001b[36m0:00:00\u001b[0m\n",
            "\u001b[?25h\u001b[?25l   \u001b[90m━━━━━━━━━━━━━━━━━━━━━━━━━━━━━━━━━━━━━━━━\u001b[0m \u001b[32m0.0/412.7 kB\u001b[0m \u001b[31m?\u001b[0m eta \u001b[36m-:--:--\u001b[0m\r\u001b[2K   \u001b[90m━━━━━━━━━━━━━━━━━━━━━━━━━━━━━━━━━━━━━━━━\u001b[0m \u001b[32m412.7/412.7 kB\u001b[0m \u001b[31m37.7 MB/s\u001b[0m eta \u001b[36m0:00:00\u001b[0m\n",
            "\u001b[?25h\u001b[?25l   \u001b[90m━━━━━━━━━━━━━━━━━━━━━━━━━━━━━━━━━━━━━━━━\u001b[0m \u001b[32m0.0/1.2 MB\u001b[0m \u001b[31m?\u001b[0m eta \u001b[36m-:--:--\u001b[0m\r\u001b[2K   \u001b[90m━━━━━━━━━━━━━━━━━━━━━━━━━━━━━━━━━━━━━━━━\u001b[0m \u001b[32m1.2/1.2 MB\u001b[0m \u001b[31m69.2 MB/s\u001b[0m eta \u001b[36m0:00:00\u001b[0m\n",
            "\u001b[?25h"
          ]
        }
      ]
    },
    {
      "cell_type": "code",
      "source": [
        "import os\n",
        "from google.colab import userdata\n",
        "\n",
        "os.environ[\"FAL_KEY\"] = userdata.get('FAL_KEY')\n",
        "os.environ[\"OPENROUTER_API_KEY\"] = userdata.get('OPENROUTER_API_KEY')"
      ],
      "metadata": {
        "id": "DJPSc13vA_LJ"
      },
      "execution_count": 2,
      "outputs": []
    },
    {
      "cell_type": "code",
      "source": [
        "from langchain.prompts import ChatPromptTemplate\n",
        "from langchain_openai import ChatOpenAI\n",
        "\n",
        "def generate_podcast_transcript(topic):\n",
        "    podcast_template = ChatPromptTemplate.from_template(\"\"\"\n",
        "      Create an engaging conversation between two speakers discussing the topic: {topic}\n",
        "\n",
        "      Requirements:\n",
        "      - Generate exactly 5 back-and-forth exchanges\n",
        "      - Make it natural and conversational\n",
        "      - Include specific details about the {topic}\n",
        "      - Each line should start with either \"Speaker 1:\" or \"Speaker 2:\"\n",
        "\n",
        "      Here's an example of the format (but create NEW content about {topic}, don't copy this example):\n",
        "      Speaker 1: [First speaker's line]\n",
        "      Speaker 2: [Second speaker's line]\n",
        "\n",
        "      The response of the each speaker should be at most 20 words. The conversation has to be insightful, engaging, explanatory, deep diving and educational.\n",
        "\n",
        "      It should be in the style of a podcast where one speaker slightly is more knowledgeable than the other.\n",
        "\n",
        "      You are allowed to write only in the below format. Just give the output in the below format in a single string. No additional delimiters.\n",
        "\n",
        "      The content should be explanatory, deep diving and educational.\n",
        "\n",
        "      Speaker 1: Hey, did you catch the game last night?\n",
        "      Speaker 2: Of course! What a match—it had me on the edge of my seat.\n",
        "      Speaker 1: Same here! That last-minute goal was unreal. Who's your MVP?\n",
        "      Speaker 2: Gotta be the goalie. Those saves were unbelievable.\n",
        "\n",
        "\n",
        "      Remember: Create completely new dialogue about {topic}, don't use the above example.\n",
        "      \"\"\")\n",
        "\n",
        "    # Initialize the ChatOpenAI model\n",
        "    llm = ChatOpenAI(\n",
        "        model=\"deepseek/deepseek-chat\",\n",
        "        openai_api_key=os.getenv(\"OPENROUTER_API_KEY\"),\n",
        "        openai_api_base=\"https://openrouter.ai/api/v1\"\n",
        "    )\n",
        "\n",
        "    # Create the chain\n",
        "    chain = podcast_template | llm\n",
        "\n",
        "    response = chain.invoke({\"topic\": topic})\n",
        "    return response.content\n",
        ""
      ],
      "metadata": {
        "id": "z4TTQamkCFp6"
      },
      "execution_count": 3,
      "outputs": []
    },
    {
      "cell_type": "code",
      "source": [
        "response = generate_podcast_transcript(\"Quantum Random Walks\")\n",
        "print(response)"
      ],
      "metadata": {
        "colab": {
          "base_uri": "https://localhost:8080/"
        },
        "id": "QBdO24tmCRr6",
        "outputId": "1e69f861-7f37-4655-d0e1-8ea83b8b4f34"
      },
      "execution_count": 4,
      "outputs": [
        {
          "output_type": "stream",
          "name": "stdout",
          "text": [
            "Speaker 1: Ever heard of Quantum Random Walks? They’re like classical walks but with quantum mechanics twists.  \n",
            "Speaker 2: Yeah, but how do they differ? Superposition, right?  \n",
            "Speaker 1: Exactly! Unlike classical walks, particles exist in multiple states simultaneously.  \n",
            "Speaker 2: So, it’s not just left or right—it’s both? That’s wild.  \n",
            "Speaker 1: Precisely! And this leads to faster exploration of possibilities.  \n",
            "Speaker 2: Sounds like it could revolutionize algorithms. Any real-world applications yet?  \n",
            "Speaker 1: Definitely! They’re used in quantum search algorithms and simulating complex systems.  \n",
            "Speaker 2: Wow, so they’re not just theoretical. That’s mind-blowing.  \n",
            "Speaker 1: Yep, the quantum world is full of surprises and potential!  \n",
            "Speaker 2: I’m hooked. Quantum Random Walks are next-level fascinating!\n"
          ]
        }
      ]
    },
    {
      "cell_type": "code",
      "source": [
        "def generate_podcast(topic):\n",
        "    print(f\"\\n🎙️ Generating podcast transcript about: {topic}\")\n",
        "    print(\"-\" * 50)\n",
        "\n",
        "    # Get transcript first using generate_podcast_transcript\n",
        "    transcript_result = generate_podcast_transcript(topic)\n",
        "\n",
        "    print(\"\\n✍️ Generated transcript:\")\n",
        "    print(\"-\" * 50)\n",
        "    print(transcript_result)\n",
        "\n",
        "    print(\"\\n🔊 Converting transcript to audio...\")\n",
        "    print(\"-\" * 50)\n",
        "\n",
        "    # Progress callback for fal-client\n",
        "    def on_queue_update(update):\n",
        "        if isinstance(update, fal_client.InProgress):\n",
        "            for log in update.logs:\n",
        "                print(f\"🎵 {log['message']}\")\n",
        "\n",
        "    # Generate audio using fal-client\n",
        "    try:\n",
        "        result = fal_client.subscribe(\n",
        "            \"fal-ai/playht/tts/ldm\",\n",
        "            {\n",
        "                \"input\": transcript_result,\n",
        "                \"voices\": [\n",
        "                    {\n",
        "                        \"voice\": \"Jennifer (English (US)/American)\",\n",
        "                        \"turn_prefix\": \"Speaker 1: \"\n",
        "                    },\n",
        "                    {\n",
        "                        \"voice\": \"Dexter (English (US)/American)\",\n",
        "                        \"turn_prefix\": \"Speaker 2: \"\n",
        "                    }\n",
        "                ]\n",
        "            },\n",
        "            with_logs=True,\n",
        "            on_queue_update=on_queue_update,\n",
        "        )\n",
        "\n",
        "        print(\"\\n✅ Audio generation complete!\")\n",
        "        print(f\"🔗 Audio URL: {result['audio']['url']}\")\n",
        "\n",
        "        return {\n",
        "            \"conversation\": transcript_result,\n",
        "            \"audio_url\": result['audio']['url']\n",
        "        }\n",
        "\n",
        "    except Exception as e:\n",
        "        print(f\"\\n❌ Error generating audio: {str(e)}\")\n",
        "        return {\n",
        "            \"conversation\": transcript_result,\n",
        "            \"audio_url\": None,\n",
        "            \"error\": str(e)\n",
        "        }\n",
        ""
      ],
      "metadata": {
        "id": "Bah3rcXDCUlP"
      },
      "execution_count": 5,
      "outputs": []
    },
    {
      "cell_type": "code",
      "source": [
        "generate_podcast(\"Quantum Random Walks\")"
      ],
      "metadata": {
        "colab": {
          "base_uri": "https://localhost:8080/"
        },
        "id": "zSZ7PpCrClDX",
        "outputId": "666baf64-1770-4e9f-d9ce-3cae330b1159"
      },
      "execution_count": 6,
      "outputs": [
        {
          "output_type": "stream",
          "name": "stdout",
          "text": [
            "\n",
            "🎙️ Generating podcast transcript about: Quantum Random Walks\n",
            "--------------------------------------------------\n",
            "\n",
            "✍️ Generated transcript:\n",
            "--------------------------------------------------\n",
            "Speaker 1: Have you heard about quantum random walks? They’re fascinating!  \n",
            "Speaker 2: Vaguely. Isn’t it like classical random walks but quantum?  \n",
            "Speaker 1: Exactly! But with superposition and interference—way more complex and efficient.  \n",
            "Speaker 2: How does superposition affect the walker’s movement?  \n",
            "Speaker 1: The walker explores multiple paths simultaneously, leading to faster exploration of graphs.  \n",
            "Speaker 2: That’s mind-blowing! So, quantum walks have applications in algorithms, right?  \n",
            "Speaker 1: Yes! They’re used in quantum search and even simulating quantum systems.  \n",
            "Speaker 2: Impressive! I need to dive deeper into this quantum goldmine.  \n",
            "Speaker 1: Start with discrete-time quantum walks—they’re simpler but still incredibly powerful.  \n",
            "Speaker 2: Will do! This could revolutionize computing as we know it.\n",
            "\n",
            "🔊 Converting transcript to audio...\n",
            "--------------------------------------------------\n",
            "\n",
            "❌ Error generating audio: name 'fal_client' is not defined\n"
          ]
        },
        {
          "output_type": "execute_result",
          "data": {
            "text/plain": [
              "{'conversation': 'Speaker 1: Have you heard about quantum random walks? They’re fascinating!  \\nSpeaker 2: Vaguely. Isn’t it like classical random walks but quantum?  \\nSpeaker 1: Exactly! But with superposition and interference—way more complex and efficient.  \\nSpeaker 2: How does superposition affect the walker’s movement?  \\nSpeaker 1: The walker explores multiple paths simultaneously, leading to faster exploration of graphs.  \\nSpeaker 2: That’s mind-blowing! So, quantum walks have applications in algorithms, right?  \\nSpeaker 1: Yes! They’re used in quantum search and even simulating quantum systems.  \\nSpeaker 2: Impressive! I need to dive deeper into this quantum goldmine.  \\nSpeaker 1: Start with discrete-time quantum walks—they’re simpler but still incredibly powerful.  \\nSpeaker 2: Will do! This could revolutionize computing as we know it.',\n",
              " 'audio_url': None,\n",
              " 'error': \"name 'fal_client' is not defined\"}"
            ]
          },
          "metadata": {},
          "execution_count": 6
        }
      ]
    }
  ]
}